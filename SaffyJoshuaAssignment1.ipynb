{
 "cells": [
  {
   "cell_type": "markdown",
   "id": "f09a55b2",
   "metadata": {},
   "source": [
    "This notebook outlines a linear regression model with disease progression for diabetes as the outcome variable and blood sugar levels as the prediction variable.  Blood sugar is known to be a key contributer to the development of diabetes so it is the chosen feature."
   ]
  },
  {
   "cell_type": "code",
   "execution_count": 22,
   "id": "81f02773",
   "metadata": {},
   "outputs": [],
   "source": [
    "import sklearn\n",
    "from sklearn.datasets import load_diabetes\n",
    "from sklearn.linear_model import LinearRegression\n",
    "from sklearn.metrics import mean_squared_error\n",
    "import numpy as np\n",
    "import scipy as sci\n",
    "import pandas as pd\n",
    "import matplotlib.pyplot as plt"
   ]
  },
  {
   "cell_type": "code",
   "execution_count": 23,
   "id": "904088e2",
   "metadata": {},
   "outputs": [],
   "source": [
    "diabetes_data = load_diabetes()"
   ]
  },
  {
   "cell_type": "code",
   "execution_count": 24,
   "id": "d40b9f87",
   "metadata": {},
   "outputs": [],
   "source": [
    "features = np.array(diabetes_data['data'])"
   ]
  },
  {
   "cell_type": "code",
   "execution_count": 25,
   "id": "165980e6",
   "metadata": {},
   "outputs": [],
   "source": [
    "diabetes_progression = np.array(diabetes_data['target'])\n",
    "diabetes_progression_train = diabetes_progression[0:-20]\n",
    "diabetes_progression_test = diabetes_progression[-20:]\n",
    "blood_sugar_levels = []\n",
    "\n",
    "for i in range(0,len(features)):\n",
    "    blood_sugar_levels.append(features[i][-1])\n",
    "    \n",
    "blood_sugar_levels = np.array(blood_sugar_levels)\n",
    "blood_sugar_levels = blood_sugar_levels.reshape(-1,1)\n",
    "blood_sugar_test = blood_sugar_levels[-20:]\n",
    "blood_sugar_train = blood_sugar_levels[0:-20]"
   ]
  },
  {
   "cell_type": "code",
   "execution_count": 26,
   "id": "eb921d23",
   "metadata": {},
   "outputs": [],
   "source": [
    "regression_model = LinearRegression(fit_intercept = True).fit(blood_sugar_train, diabetes_progression_train)"
   ]
  },
  {
   "cell_type": "code",
   "execution_count": 27,
   "id": "4b30e654",
   "metadata": {},
   "outputs": [],
   "source": [
    "blood_sugar_predict = []\n",
    "for i in range(0,10):\n",
    "    blood_sugar_predict.append(features[i][-1])\n",
    "    \n",
    "blood_sugar_predict = np.array(blood_sugar_predict)\n",
    "blood_sugar_predict = blood_sugar_predict.reshape(-1,1)"
   ]
  },
  {
   "cell_type": "code",
   "execution_count": 28,
   "id": "15740eda",
   "metadata": {},
   "outputs": [
    {
     "name": "stdout",
     "output_type": "stream",
     "text": [
      "[147.75534215 124.24959105 168.64934313 121.63784093 207.82559497\n",
      " 173.87284338 236.55484632 129.4730913  142.53184191 152.9788424 ]\n"
     ]
    }
   ],
   "source": [
    "predicted_values = regression_model.predict(blood_sugar_test)\n",
    "print(predicted_values[0:10])"
   ]
  },
  {
   "cell_type": "code",
   "execution_count": 29,
   "id": "643ffa2c",
   "metadata": {},
   "outputs": [
    {
     "name": "stdout",
     "output_type": "stream",
     "text": [
      "[630.53662695]\n",
      "153.6583701458724\n"
     ]
    }
   ],
   "source": [
    "slope = regression_model.coef_\n",
    "intercept = regression_model.intercept_\n",
    "\n",
    "print(slope)\n",
    "print(intercept)"
   ]
  },
  {
   "cell_type": "code",
   "execution_count": 30,
   "id": "c67b62f3",
   "metadata": {},
   "outputs": [
    {
     "name": "stdout",
     "output_type": "stream",
     "text": [
      "R Squared:  0.14585265016093973\n",
      "RSME:  72.5637599326825\n"
     ]
    }
   ],
   "source": [
    "print(\"R Squared: \", regression_model.score(blood_sugar_levels, diabetes_progression))\n",
    "print(\"RSME: \", mean_squared_error(predicted_values, diabetes_progression_test, squared = False))"
   ]
  },
  {
   "cell_type": "code",
   "execution_count": 31,
   "id": "dc351d57",
   "metadata": {},
   "outputs": [],
   "source": [
    "def linearModelFunction(x, slope, intercept):\n",
    "    return (slope * x + intercept)"
   ]
  },
  {
   "cell_type": "code",
   "execution_count": 32,
   "id": "3e4178ef",
   "metadata": {},
   "outputs": [
    {
     "data": {
      "text/plain": [
       "Text(0, 0.5, 'Disease Progression')"
      ]
     },
     "execution_count": 32,
     "metadata": {},
     "output_type": "execute_result"
    },
    {
     "data": {
      "image/png": "[encoded data removed]",
      "text/plain": [
       "<Figure size 432x288 with 1 Axes>"
      ]
     },
     "metadata": {
      "needs_background": "light"
     },
     "output_type": "display_data"
    }
   ],
   "source": [
    "plt.figure(1)\n",
    "plt.plot(blood_sugar_levels, diabetes_progression.reshape(-1,1), '.')\n",
    "plt.plot(blood_sugar_levels, linearModelFunction(blood_sugar_levels,slope,intercept))\n",
    "plt.xlabel(\"Blood Sugar Levels\")\n",
    "plt.ylabel(\"Disease Progression\")"
   ]
  },
  {
   "cell_type": "code",
   "execution_count": null,
   "id": "36d410ac",
   "metadata": {},
   "outputs": [],
   "source": []
  },
  {
   "cell_type": "code",
   "execution_count": null,
   "id": "af9bd571",
   "metadata": {},
   "outputs": [],
   "source": []
  }
 ],
 "metadata": {
  "kernelspec": {
   "display_name": "Python 3",
   "language": "python",
   "name": "python3"
  },
  "language_info": {
   "codemirror_mode": {
    "name": "ipython",
    "version": 3
   },
   "file_extension": ".py",
   "mimetype": "text/x-python",
   "name": "python",
   "nbconvert_exporter": "python",
   "pygments_lexer": "ipython3",
   "version": "3.8.8"
  }
 },
 "nbformat": 4,
 "nbformat_minor": 5
}
